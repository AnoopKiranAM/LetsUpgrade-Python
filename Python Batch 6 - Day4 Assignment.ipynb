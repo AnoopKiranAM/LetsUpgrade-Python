{
 "cells": [
  {
   "cell_type": "markdown",
   "metadata": {},
   "source": [
    "## Finding the indices of 'we' substring"
   ]
  },
  {
   "cell_type": "code",
   "execution_count": 19,
   "metadata": {},
   "outputs": [
    {
     "name": "stdout",
     "output_type": "stream",
     "text": [
      "Indices of the substrings 'we' are : [5, 14, 25]\n"
     ]
    }
   ],
   "source": [
    "var_str = \"what we think we become; we are Python programmer\"\n",
    "sub_str = \"we\"  \n",
    "result=[]\n",
    "for i in range(len(var_str)):\n",
    "    if var_str.startswith(test_sub, i):\n",
    "        result.append(i)   \n",
    "print(f\"Indices of the substrings '{sub_str}' are : \" + str(result)) "
   ]
  },
  {
   "cell_type": "markdown",
   "metadata": {},
   "source": [
    "## Checking islower() and isupper() with different strings"
   ]
  },
  {
   "cell_type": "code",
   "execution_count": 20,
   "metadata": {},
   "outputs": [
    {
     "name": "stdout",
     "output_type": "stream",
     "text": [
      "True\n",
      "False\n"
     ]
    }
   ],
   "source": [
    "string = 'anoopkiran'\n",
    "print(string.islower()) \n",
    "  \n",
    "string = 'AnoopKiran'\n",
    "print(string.islower()) "
   ]
  },
  {
   "cell_type": "code",
   "execution_count": 23,
   "metadata": {},
   "outputs": [
    {
     "name": "stdout",
     "output_type": "stream",
     "text": [
      "True\n",
      "False\n"
     ]
    }
   ],
   "source": [
    "string = 'ANOOPKIRAN'\n",
    "print(string.isupper()) \n",
    "  \n",
    "string = 'AnoopKiran123'\n",
    "print(string.isupper()) "
   ]
  },
  {
   "cell_type": "code",
   "execution_count": null,
   "metadata": {},
   "outputs": [],
   "source": []
  }
 ],
 "metadata": {
  "kernelspec": {
   "display_name": "Python 3",
   "language": "python",
   "name": "python3"
  },
  "language_info": {
   "codemirror_mode": {
    "name": "ipython",
    "version": 3
   },
   "file_extension": ".py",
   "mimetype": "text/x-python",
   "name": "python",
   "nbconvert_exporter": "python",
   "pygments_lexer": "ipython3",
   "version": "3.7.6"
  }
 },
 "nbformat": 4,
 "nbformat_minor": 4
}
