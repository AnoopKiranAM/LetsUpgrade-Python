{
 "cells": [
  {
   "cell_type": "markdown",
   "metadata": {},
   "source": [
    "## Sum of n numbers using while loop"
   ]
  },
  {
   "cell_type": "code",
   "execution_count": 46,
   "metadata": {},
   "outputs": [
    {
     "name": "stdout",
     "output_type": "stream",
     "text": [
      "Enter the 'n' value to find sum:20\n"
     ]
    }
   ],
   "source": [
    "sum=0\n",
    "n=input(\"Enter the 'n' value to find sum:\")\n",
    "n=eval(n)"
   ]
  },
  {
   "cell_type": "code",
   "execution_count": 47,
   "metadata": {},
   "outputs": [
    {
     "name": "stdout",
     "output_type": "stream",
     "text": [
      "sum of 20 numbers = 210\n"
     ]
    }
   ],
   "source": [
    "i=1\n",
    "while 1:\n",
    "    sum=sum+i\n",
    "    if i==n:\n",
    "        break\n",
    "    else:\n",
    "        i=i+1\n",
    "print (f\"sum of {n} numbers = {sum}\")"
   ]
  },
  {
   "cell_type": "markdown",
   "metadata": {},
   "source": [
    "## Check a number in prime or not?"
   ]
  },
  {
   "cell_type": "code",
   "execution_count": 48,
   "metadata": {},
   "outputs": [
    {
     "name": "stdout",
     "output_type": "stream",
     "text": [
      "Enter a number to check for prime : 23\n"
     ]
    }
   ],
   "source": [
    "num = input(\"Enter a number to check for prime : \")\n",
    "num=eval(num)\n"
   ]
  },
  {
   "cell_type": "code",
   "execution_count": 49,
   "metadata": {},
   "outputs": [
    {
     "name": "stdout",
     "output_type": "stream",
     "text": [
      "23 is a prime number\n"
     ]
    }
   ],
   "source": [
    "if num > 1:  \n",
    "    for i in range(2,num):  \n",
    "        if (num % i) == 0:  \n",
    "            print(f\"{num} is not a prime number\")    \n",
    "            break  \n",
    "    else:  \n",
    "        print(f\"{num} is a prime number\")  \n",
    "         \n",
    "else:  \n",
    "       print(f\"{num} is not a prime number\")  "
   ]
  }
 ],
 "metadata": {
  "kernelspec": {
   "display_name": "Python 3",
   "language": "python",
   "name": "python3"
  },
  "language_info": {
   "codemirror_mode": {
    "name": "ipython",
    "version": 3
   },
   "file_extension": ".py",
   "mimetype": "text/x-python",
   "name": "python",
   "nbconvert_exporter": "python",
   "pygments_lexer": "ipython3",
   "version": "3.7.6"
  }
 },
 "nbformat": 4,
 "nbformat_minor": 4
}
