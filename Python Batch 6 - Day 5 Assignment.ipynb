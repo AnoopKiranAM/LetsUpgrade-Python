{
 "cells": [
  {
   "cell_type": "markdown",
   "metadata": {},
   "source": [
    "## Sortig the list and adding all zeros at the end"
   ]
  },
  {
   "cell_type": "code",
   "execution_count": 25,
   "metadata": {},
   "outputs": [
    {
     "name": "stdout",
     "output_type": "stream",
     "text": [
      "count of zeros== 5\n",
      "[1, 1, 1, 2, 2, 3, 4, 4, 10, 56, 56, 0, 0, 0, 0, 0]\n"
     ]
    }
   ],
   "source": [
    "arr1 = [0,1,2,10,4,1,0,56,2,0,1,3,0,56,0,4] \n",
    "arr1.sort()\n",
    "first=len(arr1)\n",
    "numberOfZeros=arr1.count(0)\n",
    "count=0\n",
    "print(\"count of zeros==\",arr1.count(0))\n",
    "del arr1[0:numberOfZeros]\n",
    "arr1\n",
    "second=len(arr1)\n",
    "for i in range(second,first):\n",
    "    arr1.append(0)\n",
    "    \n",
    "print(arr1)"
   ]
  },
  {
   "cell_type": "markdown",
   "metadata": {},
   "source": [
    "## Merging 2 list into a sorted list"
   ]
  },
  {
   "cell_type": "code",
   "execution_count": 26,
   "metadata": {},
   "outputs": [
    {
     "name": "stdout",
     "output_type": "stream",
     "text": [
      "The combined sorted list is : [5, 10, 15, 20, 25, 35, 40, 45, 60, 60, 70, 80]\n"
     ]
    }
   ],
   "source": [
    "list1 = [10,20,40,60,70,80] \n",
    "list2 = [5,15,25,35,45,60] \n",
    "l1 = len(list1) \n",
    "l2 = len(list2)  \n",
    "list3 = [] \n",
    "i = 0\n",
    "j = 0  \n",
    "while i < l1 and j < l2: \n",
    "    if list1[i] < list2[j]: \n",
    "        list3.append(list1[i]) \n",
    "        i += 1\n",
    "    else: \n",
    "        list3.append(list2[j]) \n",
    "        j += 1\n",
    "list3 = list3 + list1[i:] + list2[j:]    \n",
    "print (\"The combined sorted list is : \" + str(list3))"
   ]
  },
  {
   "cell_type": "code",
   "execution_count": null,
   "metadata": {},
   "outputs": [],
   "source": []
  },
  {
   "cell_type": "code",
   "execution_count": null,
   "metadata": {},
   "outputs": [],
   "source": []
  }
 ],
 "metadata": {
  "kernelspec": {
   "display_name": "Python 3",
   "language": "python",
   "name": "python3"
  },
  "language_info": {
   "codemirror_mode": {
    "name": "ipython",
    "version": 3
   },
   "file_extension": ".py",
   "mimetype": "text/x-python",
   "name": "python",
   "nbconvert_exporter": "python",
   "pygments_lexer": "ipython3",
   "version": "3.7.6"
  }
 },
 "nbformat": 4,
 "nbformat_minor": 4
}
